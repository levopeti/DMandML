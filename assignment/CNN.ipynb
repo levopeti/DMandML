{
 "cells": [
  {
   "cell_type": "code",
   "execution_count": 1,
   "id": "d1e03c95",
   "metadata": {},
   "outputs": [
    {
     "name": "stderr",
     "output_type": "stream",
     "text": [
      "2021-12-09 15:03:34.207620: I tensorflow/stream_executor/platform/default/dso_loader.cc:48] Successfully opened dynamic library libcudart.so.10.1\n"
     ]
    }
   ],
   "source": [
    "from tensorflow.keras.models import Model\n",
    "from tensorflow.keras.layers import Input, Dense, Conv2D, MaxPooling2D, BatchNormalization, Flatten\n",
    "from tensorflow.keras.optimizers import Adam\n",
    "from tensorflow.keras.utils import to_categorical\n",
    "\n",
    "from sklearn.model_selection import train_test_split\n",
    "\n",
    "from sklearn.preprocessing import StandardScaler, MinMaxScaler, RobustScaler\n",
    "from sklearn.impute import SimpleImputer, KNNImputer\n",
    "\n",
    "from sklearn.metrics import confusion_matrix, ConfusionMatrixDisplay\n",
    "from sklearn.utils import class_weight\n",
    "\n",
    "import pandas as pd\n",
    "import numpy as np\n",
    "import matplotlib\n",
    "import matplotlib.pyplot as plt\n",
    "\n",
    "from utils import get_data, plot_cm_keras, filter_columns\n",
    "\n",
    "%matplotlib inline\n",
    "matplotlib.rcParams['figure.figsize'] = [15, 15]"
   ]
  },
  {
   "cell_type": "code",
   "execution_count": 2,
   "id": "b85769d0",
   "metadata": {},
   "outputs": [],
   "source": [
    "def define_model(input_shape):\n",
    "    ip = Input(shape=(input_shape, input_shape, 1), name=\"input\")\n",
    "    \n",
    "    x = Conv2D(64, (5, 5), padding=\"valid\", activation=\"relu\")(ip)\n",
    "    x = MaxPooling2D(pool_size=(2, 2))(x)\n",
    "    x = Conv2D(64, (5, 5), padding=\"valid\", activation=\"relu\")(x)\n",
    "    x = MaxPooling2D(pool_size=(2, 2))(x)\n",
    "    x = Conv2D(64, (3, 3), padding=\"valid\", activation=\"relu\")(x)\n",
    "    x = MaxPooling2D(pool_size=(2, 2))(x)\n",
    "    x = Flatten()(x)\n",
    "    \n",
    "    x = Dense(units=1024, activation=\"relu\")(x)\n",
    "    x = Dense(units=256, activation=\"relu\")(x)\n",
    "    op = Dense(units=19, activation=\"softmax\")(x)\n",
    "    model = Model(inputs=ip, outputs=op, name=\"full_model\")\n",
    "    model.summary()\n",
    "    \n",
    "    learning_rate = 0.001\n",
    "    optimizer = Adam(learning_rate, amsgrad=True)\n",
    "    model.compile(loss=\"categorical_crossentropy\", optimizer=optimizer, metrics=[\"accuracy\"])\n",
    "    return model"
   ]
  },
  {
   "cell_type": "code",
   "execution_count": 3,
   "id": "f0a7f678",
   "metadata": {},
   "outputs": [],
   "source": [
    "XY_train, X_test, inverse_target_map = get_data(min_size=None, min_size_test=None, nan_thresh=40, fill_nan=None)\n",
    "train_columns = list(XY_train.columns)\n",
    "train_columns.remove(\"TARGET_NUM\")\n",
    "\n",
    "Y_train = XY_train[\"TARGET_NUM\"].values\n",
    "\n",
    "min_max_scaler = MinMaxScaler(feature_range=(2, 10))\n",
    "X_train_minmax = min_max_scaler.fit(XY_train[train_columns])\n",
    "x_train = X_train_minmax.transform(XY_train[train_columns])\n",
    "\n",
    "imp = SimpleImputer(missing_values=np.nan, strategy='constant', fill_value=1)\n",
    "imp_train = imp.fit(x_train)\n",
    "x_train_full = imp_train.transform(x_train)\n",
    "\n",
    "x_train_full_df = pd.DataFrame(x_train_full, columns=train_columns, index=XY_train.index)\n",
    "\n",
    "min_size = 150\n",
    "\n",
    "for c in x_train_full_df.columns:\n",
    "    if c != \"TARGET_NUM\":\n",
    "        x_train_full_df[c][x_train_full_df.groupby(c)[c].transform('size') <= min_size] = 0\n",
    "\n",
    "stand_scaler = StandardScaler()\n",
    "X_train_stand = stand_scaler.fit(x_train_full_df[train_columns])\n",
    "x_train_stand = X_train_stand.transform(x_train_full_df[train_columns])"
   ]
  },
  {
   "cell_type": "code",
   "execution_count": 4,
   "id": "a0b2736e",
   "metadata": {},
   "outputs": [
    {
     "data": {
      "text/plain": [
       "(1760089, 43)"
      ]
     },
     "execution_count": 4,
     "metadata": {},
     "output_type": "execute_result"
    }
   ],
   "source": [
    "x_train_stand.shape"
   ]
  },
  {
   "cell_type": "code",
   "execution_count": 5,
   "id": "b0137fc2",
   "metadata": {},
   "outputs": [],
   "source": [
    "del X_test\n",
    "del x_train\n",
    "del x_train_full\n",
    "del x_train_full_df\n",
    "del XY_train"
   ]
  },
  {
   "cell_type": "code",
   "execution_count": 6,
   "id": "bc1f2592",
   "metadata": {},
   "outputs": [],
   "source": [
    "x_train_image = [np.expand_dims(np.outer(instance, instance), axis=2) for instance in x_train_stand]"
   ]
  },
  {
   "cell_type": "code",
   "execution_count": 7,
   "id": "be062681",
   "metadata": {},
   "outputs": [],
   "source": [
    "x_train_image = np.array(x_train_image)"
   ]
  },
  {
   "cell_type": "code",
   "execution_count": null,
   "id": "b5f104da",
   "metadata": {},
   "outputs": [],
   "source": [
    "y_train = to_categorical(Y_train)\n",
    "X_train, X_test, y_train, y_test = train_test_split(x_train_image, y_train, test_size=0.30)"
   ]
  },
  {
   "cell_type": "code",
   "execution_count": null,
   "id": "85c4e6af",
   "metadata": {
    "scrolled": true
   },
   "outputs": [],
   "source": [
    "model = define_model(X_train[0].shape[0])\n",
    "history = model.fit(X_train,\n",
    "                    y_train,\n",
    "                    batch_size=100,\n",
    "                    epochs=150,\n",
    "                    verbose=1,\n",
    "                    validation_data=(X_test, y_test))"
   ]
  },
  {
   "cell_type": "markdown",
   "id": "eb5c3b51",
   "metadata": {},
   "source": [
    "## Mask columns"
   ]
  },
  {
   "cell_type": "code",
   "execution_count": 12,
   "id": "e0061c87",
   "metadata": {},
   "outputs": [],
   "source": [
    "def define_model(input_shape):\n",
    "    ip = Input(shape=(input_shape, input_shape, 1), name=\"input\")\n",
    "    \n",
    "    x = Conv2D(64, (3, 3), padding=\"valid\", activation=\"relu\")(ip)\n",
    "    #x = MaxPooling2D(pool_size=(2, 2))(x)\n",
    "    x = Conv2D(64, (3, 3), padding=\"valid\", activation=\"relu\")(x)\n",
    "    #x = MaxPooling2D(pool_size=(2, 2))(x)\n",
    "    x = Conv2D(64, (3, 3), padding=\"valid\", activation=\"relu\")(x)\n",
    "    #x = MaxPooling2D(pool_size=(2, 2))(x)\n",
    "    x = Flatten()(x)\n",
    "    \n",
    "    x = Dense(units=1024, activation=\"relu\")(x)\n",
    "    x = Dense(units=256, activation=\"relu\")(x)\n",
    "    op = Dense(units=19, activation=\"softmax\")(x)\n",
    "    model = Model(inputs=ip, outputs=op, name=\"full_model\")\n",
    "    model.summary()\n",
    "    \n",
    "    learning_rate = 0.001\n",
    "    optimizer = Adam(learning_rate, amsgrad=True)\n",
    "    model.compile(loss=\"categorical_crossentropy\", optimizer=optimizer, metrics=[\"accuracy\"])\n",
    "    return model"
   ]
  },
  {
   "cell_type": "code",
   "execution_count": 8,
   "id": "6f646d78",
   "metadata": {},
   "outputs": [],
   "source": [
    "XY_train, X_test_ori, inverse_target_map = get_data(min_size=None, min_size_test=None, nan_thresh=10, fill_nan=None)\n",
    "train_columns = list(XY_train.columns)\n",
    "train_columns.remove(\"TARGET_NUM\")\n",
    "\n",
    "y_train_ori = XY_train[\"TARGET_NUM\"].values\n",
    "x_train = XY_train[train_columns].values\n",
    "\n",
    "min_max_scaler = MinMaxScaler(feature_range=(0, 10)).fit(x_train)\n",
    "x_train = min_max_scaler.transform(x_train)\n",
    "\n",
    "imp = SimpleImputer(missing_values=np.nan, strategy='constant', fill_value=-1).fit(x_train)\n",
    "x_train = imp.transform(x_train)\n",
    "\n",
    "#rs = RobustScaler().fit(x_train)\n",
    "#x_train = rs.transform(x_train)\n",
    "\n",
    "stand_scaler = StandardScaler().fit(x_train)\n",
    "x_train = stand_scaler.transform(x_train)\n",
    "\n",
    "x_train = filter_columns(x_train)"
   ]
  },
  {
   "cell_type": "code",
   "execution_count": 9,
   "id": "f57c6655",
   "metadata": {},
   "outputs": [
    {
     "data": {
      "text/plain": [
       "(3696242, 9)"
      ]
     },
     "execution_count": 9,
     "metadata": {},
     "output_type": "execute_result"
    }
   ],
   "source": [
    "x_train.shape"
   ]
  },
  {
   "cell_type": "code",
   "execution_count": 10,
   "id": "84607212",
   "metadata": {},
   "outputs": [],
   "source": [
    "del XY_train"
   ]
  },
  {
   "cell_type": "code",
   "execution_count": 11,
   "id": "2a2c6d7c",
   "metadata": {},
   "outputs": [],
   "source": [
    "x_train = [np.expand_dims(np.outer(instance, instance), axis=2) for instance in x_train]\n",
    "x_train = np.array(x_train)\n",
    "\n",
    "y_train = to_categorical(y_train_ori)\n",
    "X_train, X_test, y_train, y_test = train_test_split(x_train, y_train, test_size=0.3, stratify=y_train_ori,\n",
    "                                                    random_state=42)"
   ]
  },
  {
   "cell_type": "code",
   "execution_count": null,
   "id": "05452016",
   "metadata": {
    "scrolled": false
   },
   "outputs": [
    {
     "name": "stderr",
     "output_type": "stream",
     "text": [
      "2021-12-09 15:11:53.526863: I tensorflow/stream_executor/platform/default/dso_loader.cc:48] Successfully opened dynamic library libcuda.so.1\n",
      "2021-12-09 15:11:53.570879: I tensorflow/core/common_runtime/gpu/gpu_device.cc:1716] Found device 0 with properties: \n",
      "pciBusID: 0000:05:00.0 name: GeForce GTX 1080 Ti computeCapability: 6.1\n",
      "coreClock: 1.582GHz coreCount: 28 deviceMemorySize: 10.91GiB deviceMemoryBandwidth: 451.17GiB/s\n",
      "2021-12-09 15:11:53.571359: I tensorflow/stream_executor/platform/default/dso_loader.cc:48] Successfully opened dynamic library libcudart.so.10.1\n",
      "2021-12-09 15:11:53.611938: I tensorflow/stream_executor/platform/default/dso_loader.cc:48] Successfully opened dynamic library libcublas.so.10\n",
      "2021-12-09 15:11:53.636835: I tensorflow/stream_executor/platform/default/dso_loader.cc:48] Successfully opened dynamic library libcufft.so.10\n",
      "2021-12-09 15:11:53.642535: I tensorflow/stream_executor/platform/default/dso_loader.cc:48] Successfully opened dynamic library libcurand.so.10\n",
      "2021-12-09 15:11:53.686961: I tensorflow/stream_executor/platform/default/dso_loader.cc:48] Successfully opened dynamic library libcusolver.so.10\n",
      "2021-12-09 15:11:53.694508: I tensorflow/stream_executor/platform/default/dso_loader.cc:48] Successfully opened dynamic library libcusparse.so.10\n",
      "2021-12-09 15:11:53.776653: I tensorflow/stream_executor/platform/default/dso_loader.cc:48] Successfully opened dynamic library libcudnn.so.7\n",
      "2021-12-09 15:11:53.781107: I tensorflow/core/common_runtime/gpu/gpu_device.cc:1858] Adding visible gpu devices: 0\n",
      "2021-12-09 15:11:53.783044: I tensorflow/core/platform/cpu_feature_guard.cc:142] This TensorFlow binary is optimized with oneAPI Deep Neural Network Library (oneDNN)to use the following CPU instructions in performance-critical operations:  AVX2 FMA\n",
      "To enable them in other operations, rebuild TensorFlow with the appropriate compiler flags.\n",
      "2021-12-09 15:11:53.833729: I tensorflow/core/platform/profile_utils/cpu_utils.cc:104] CPU Frequency: 3600255000 Hz\n",
      "2021-12-09 15:11:53.835571: I tensorflow/compiler/xla/service/service.cc:168] XLA service 0x326e7e0 initialized for platform Host (this does not guarantee that XLA will be used). Devices:\n",
      "2021-12-09 15:11:53.835601: I tensorflow/compiler/xla/service/service.cc:176]   StreamExecutor device (0): Host, Default Version\n",
      "2021-12-09 15:11:54.070421: I tensorflow/compiler/xla/service/service.cc:168] XLA service 0x548e9b0 initialized for platform CUDA (this does not guarantee that XLA will be used). Devices:\n",
      "2021-12-09 15:11:54.070451: I tensorflow/compiler/xla/service/service.cc:176]   StreamExecutor device (0): GeForce GTX 1080 Ti, Compute Capability 6.1\n",
      "2021-12-09 15:11:54.072766: I tensorflow/core/common_runtime/gpu/gpu_device.cc:1716] Found device 0 with properties: \n",
      "pciBusID: 0000:05:00.0 name: GeForce GTX 1080 Ti computeCapability: 6.1\n",
      "coreClock: 1.582GHz coreCount: 28 deviceMemorySize: 10.91GiB deviceMemoryBandwidth: 451.17GiB/s\n",
      "2021-12-09 15:11:54.072818: I tensorflow/stream_executor/platform/default/dso_loader.cc:48] Successfully opened dynamic library libcudart.so.10.1\n",
      "2021-12-09 15:11:54.072867: I tensorflow/stream_executor/platform/default/dso_loader.cc:48] Successfully opened dynamic library libcublas.so.10\n",
      "2021-12-09 15:11:54.072900: I tensorflow/stream_executor/platform/default/dso_loader.cc:48] Successfully opened dynamic library libcufft.so.10\n",
      "2021-12-09 15:11:54.072931: I tensorflow/stream_executor/platform/default/dso_loader.cc:48] Successfully opened dynamic library libcurand.so.10\n",
      "2021-12-09 15:11:54.072961: I tensorflow/stream_executor/platform/default/dso_loader.cc:48] Successfully opened dynamic library libcusolver.so.10\n",
      "2021-12-09 15:11:54.072992: I tensorflow/stream_executor/platform/default/dso_loader.cc:48] Successfully opened dynamic library libcusparse.so.10\n",
      "2021-12-09 15:11:54.073024: I tensorflow/stream_executor/platform/default/dso_loader.cc:48] Successfully opened dynamic library libcudnn.so.7\n",
      "2021-12-09 15:11:54.074821: I tensorflow/core/common_runtime/gpu/gpu_device.cc:1858] Adding visible gpu devices: 0\n",
      "2021-12-09 15:11:54.075313: I tensorflow/stream_executor/platform/default/dso_loader.cc:48] Successfully opened dynamic library libcudart.so.10.1\n",
      "2021-12-09 15:11:54.876027: I tensorflow/core/common_runtime/gpu/gpu_device.cc:1257] Device interconnect StreamExecutor with strength 1 edge matrix:\n",
      "2021-12-09 15:11:54.876066: I tensorflow/core/common_runtime/gpu/gpu_device.cc:1263]      0 \n",
      "2021-12-09 15:11:54.876075: I tensorflow/core/common_runtime/gpu/gpu_device.cc:1276] 0:   N \n",
      "2021-12-09 15:11:54.878547: I tensorflow/core/common_runtime/gpu/gpu_device.cc:1402] Created TensorFlow device (/job:localhost/replica:0/task:0/device:GPU:0 with 9583 MB memory) -> physical GPU (device: 0, name: GeForce GTX 1080 Ti, pci bus id: 0000:05:00.0, compute capability: 6.1)\n"
     ]
    },
    {
     "name": "stdout",
     "output_type": "stream",
     "text": [
      "Model: \"full_model\"\n",
      "_________________________________________________________________\n",
      "Layer (type)                 Output Shape              Param #   \n",
      "=================================================================\n",
      "input (InputLayer)           [(None, 9, 9, 1)]         0         \n",
      "_________________________________________________________________\n",
      "conv2d (Conv2D)              (None, 7, 7, 64)          640       \n",
      "_________________________________________________________________\n",
      "conv2d_1 (Conv2D)            (None, 5, 5, 64)          36928     \n",
      "_________________________________________________________________\n",
      "conv2d_2 (Conv2D)            (None, 3, 3, 64)          36928     \n",
      "_________________________________________________________________\n",
      "flatten (Flatten)            (None, 576)               0         \n",
      "_________________________________________________________________\n",
      "dense (Dense)                (None, 1024)              590848    \n",
      "_________________________________________________________________\n",
      "dense_1 (Dense)              (None, 256)               262400    \n",
      "_________________________________________________________________\n",
      "dense_2 (Dense)              (None, 19)                4883      \n",
      "=================================================================\n",
      "Total params: 932,627\n",
      "Trainable params: 932,627\n",
      "Non-trainable params: 0\n",
      "_________________________________________________________________\n",
      "Epoch 1/150\n"
     ]
    },
    {
     "name": "stderr",
     "output_type": "stream",
     "text": [
      "2021-12-09 15:11:56.299159: I tensorflow/stream_executor/platform/default/dso_loader.cc:48] Successfully opened dynamic library libcublas.so.10\n",
      "2021-12-09 15:11:56.711042: I tensorflow/stream_executor/platform/default/dso_loader.cc:48] Successfully opened dynamic library libcudnn.so.7\n"
     ]
    },
    {
     "name": "stdout",
     "output_type": "stream",
     "text": [
      "25874/25874 [==============================] - 115s 4ms/step - loss: 2.2858 - accuracy: 0.2705 - val_loss: 2.2665 - val_accuracy: 0.2757\n",
      "Epoch 2/150\n",
      "25874/25874 [==============================] - 115s 4ms/step - loss: 2.2600 - accuracy: 0.2763 - val_loss: 2.2582 - val_accuracy: 0.2763\n",
      "Epoch 3/150\n",
      "25874/25874 [==============================] - 112s 4ms/step - loss: 2.2539 - accuracy: 0.2777 - val_loss: 2.2561 - val_accuracy: 0.2776\n",
      "Epoch 4/150\n",
      "25874/25874 [==============================] - 114s 4ms/step - loss: 2.2500 - accuracy: 0.2786 - val_loss: 2.2554 - val_accuracy: 0.2784\n",
      "Epoch 5/150\n",
      "25874/25874 [==============================] - 112s 4ms/step - loss: 2.2472 - accuracy: 0.2793 - val_loss: 2.2522 - val_accuracy: 0.2789\n",
      "Epoch 6/150\n",
      "25874/25874 [==============================] - 114s 4ms/step - loss: 2.2447 - accuracy: 0.2801 - val_loss: 2.2522 - val_accuracy: 0.2784\n",
      "Epoch 7/150\n",
      "25874/25874 [==============================] - 112s 4ms/step - loss: 2.2426 - accuracy: 0.2804 - val_loss: 2.2505 - val_accuracy: 0.2797\n",
      "Epoch 8/150\n",
      "25874/25874 [==============================] - 108s 4ms/step - loss: 2.2407 - accuracy: 0.2808 - val_loss: 2.2525 - val_accuracy: 0.2782\n",
      "Epoch 9/150\n",
      "25874/25874 [==============================] - 109s 4ms/step - loss: 2.2388 - accuracy: 0.2811 - val_loss: 2.2538 - val_accuracy: 0.2787\n",
      "Epoch 10/150\n",
      "25874/25874 [==============================] - 108s 4ms/step - loss: 2.2367 - accuracy: 0.2815 - val_loss: 2.2518 - val_accuracy: 0.2790\n",
      "Epoch 11/150\n",
      "25874/25874 [==============================] - 109s 4ms/step - loss: 2.2351 - accuracy: 0.2820 - val_loss: 2.2550 - val_accuracy: 0.2781\n",
      "Epoch 12/150\n",
      "25874/25874 [==============================] - 113s 4ms/step - loss: 2.2331 - accuracy: 0.2822 - val_loss: 2.2531 - val_accuracy: 0.2784\n",
      "Epoch 13/150\n",
      "25874/25874 [==============================] - 112s 4ms/step - loss: 2.2313 - accuracy: 0.2827 - val_loss: 2.2548 - val_accuracy: 0.2787\n",
      "Epoch 14/150\n",
      "25874/25874 [==============================] - 111s 4ms/step - loss: 2.2293 - accuracy: 0.2832 - val_loss: 2.2546 - val_accuracy: 0.2791\n",
      "Epoch 15/150\n",
      "25874/25874 [==============================] - 110s 4ms/step - loss: 2.2275 - accuracy: 0.2833 - val_loss: 2.2568 - val_accuracy: 0.2781\n",
      "Epoch 16/150\n",
      "25874/25874 [==============================] - 111s 4ms/step - loss: 2.2254 - accuracy: 0.2838 - val_loss: 2.2589 - val_accuracy: 0.2777\n",
      "Epoch 17/150\n",
      "25874/25874 [==============================] - 110s 4ms/step - loss: 2.2234 - accuracy: 0.2843 - val_loss: 2.2574 - val_accuracy: 0.2788\n",
      "Epoch 18/150\n",
      "25874/25874 [==============================] - 109s 4ms/step - loss: 2.2213 - accuracy: 0.2847 - val_loss: 2.2592 - val_accuracy: 0.2773\n",
      "Epoch 19/150\n",
      "25874/25874 [==============================] - 111s 4ms/step - loss: 2.2193 - accuracy: 0.2852 - val_loss: 2.2614 - val_accuracy: 0.2778\n",
      "Epoch 20/150\n",
      "25874/25874 [==============================] - 113s 4ms/step - loss: 2.2172 - accuracy: 0.2857 - val_loss: 2.2627 - val_accuracy: 0.2775\n",
      "Epoch 21/150\n",
      "25874/25874 [==============================] - 113s 4ms/step - loss: 2.2151 - accuracy: 0.2862 - val_loss: 2.2634 - val_accuracy: 0.2775\n",
      "Epoch 22/150\n",
      "25874/25874 [==============================] - 111s 4ms/step - loss: 2.2129 - accuracy: 0.2862 - val_loss: 2.2652 - val_accuracy: 0.2775\n",
      "Epoch 23/150\n",
      "25874/25874 [==============================] - 112s 4ms/step - loss: 2.2106 - accuracy: 0.2869 - val_loss: 2.2666 - val_accuracy: 0.2778\n",
      "Epoch 24/150\n",
      "25874/25874 [==============================] - 112s 4ms/step - loss: 2.2081 - accuracy: 0.2874 - val_loss: 2.2689 - val_accuracy: 0.2769\n",
      "Epoch 25/150\n",
      "25874/25874 [==============================] - 131s 5ms/step - loss: 2.2058 - accuracy: 0.2881 - val_loss: 2.2702 - val_accuracy: 0.2768\n",
      "Epoch 26/150\n",
      "25874/25874 [==============================] - 102s 4ms/step - loss: 2.2037 - accuracy: 0.2884 - val_loss: 2.2721 - val_accuracy: 0.2767\n",
      "Epoch 27/150\n",
      "25874/25874 [==============================] - 102s 4ms/step - loss: 2.2013 - accuracy: 0.2889 - val_loss: 2.2743 - val_accuracy: 0.2770\n",
      "Epoch 28/150\n",
      "  919/25874 [>.............................] - ETA: 2:59 - loss: 2.1843 - accuracy: 0.2944"
     ]
    }
   ],
   "source": [
    "model = define_model(X_train[0].shape[0])\n",
    "history = model.fit(X_train,\n",
    "                    y_train,\n",
    "                    batch_size=100,\n",
    "                    epochs=150,\n",
    "                    verbose=1,\n",
    "                    validation_data=(X_test, y_test))\n",
    "plot_cm(model, X_test, y_test)"
   ]
  },
  {
   "cell_type": "code",
   "execution_count": null,
   "id": "bd435775",
   "metadata": {},
   "outputs": [],
   "source": []
  },
  {
   "cell_type": "code",
   "execution_count": null,
   "id": "07f02560",
   "metadata": {},
   "outputs": [],
   "source": []
  }
 ],
 "metadata": {
  "kernelspec": {
   "display_name": "aidrms",
   "language": "python",
   "name": "aidrms"
  },
  "language_info": {
   "codemirror_mode": {
    "name": "ipython",
    "version": 3
   },
   "file_extension": ".py",
   "mimetype": "text/x-python",
   "name": "python",
   "nbconvert_exporter": "python",
   "pygments_lexer": "ipython3",
   "version": "3.8.0"
  }
 },
 "nbformat": 4,
 "nbformat_minor": 5
}
