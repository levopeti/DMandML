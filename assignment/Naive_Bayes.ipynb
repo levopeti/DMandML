{
 "cells": [
  {
   "cell_type": "code",
   "execution_count": 1,
   "id": "71d85557",
   "metadata": {},
   "outputs": [],
   "source": [
    "from geneticalgorithm import geneticalgorithm as ga\n",
    "\n",
    "from sklearn.tree import DecisionTreeClassifier as DTC, plot_tree, export_text\n",
    "from sklearn.naive_bayes import GaussianNB\n",
    "from sklearn.impute import SimpleImputer\n",
    "from sklearn.model_selection import cross_validate as cv\n",
    "from keras.utils.np_utils import to_categorical\n",
    "from sklearn.model_selection import train_test_split\n",
    "\n",
    "import pandas as pd\n",
    "import numpy as np\n",
    "import matplotlib.pyplot as plt\n",
    "import graphviz\n",
    "\n",
    "from utils import get_data\n",
    "\n",
    "%matplotlib inline\n",
    "\n",
    "from sklearn.preprocessing import StandardScaler, MinMaxScaler, RobustScaler\n",
    "from sklearn.impute import SimpleImputer, KNNImputer\n",
    "\n",
    "from sklearn.decomposition import PCA\n",
    "from utils import get_data\n",
    "\n",
    "%matplotlib inline"
   ]
  },
  {
   "cell_type": "code",
   "execution_count": 2,
   "id": "edfe0131",
   "metadata": {},
   "outputs": [],
   "source": [
    "XY_train, X_test, inverse_target_map = get_data(min_size=None, min_size_test=None, fill_nan=None)\n",
    "train_columns = list(XY_train.columns)\n",
    "train_columns.remove(\"TARGET_NUM\")\n",
    "\n",
    "min_max_scaler = MinMaxScaler(feature_range=(2, 10))\n",
    "X_train_minmax = min_max_scaler.fit(XY_train[train_columns])\n",
    "x_train = X_train_minmax.transform(XY_train[train_columns])\n",
    "\n",
    "imp = SimpleImputer(missing_values=np.nan, strategy='constant', fill_value=1)\n",
    "imp_train = imp.fit(x_train)\n",
    "x_train_full = imp_train.transform(x_train)\n",
    "\n",
    "x_train_full_df = pd.DataFrame(x_train_full, columns=train_columns, index=XY_train.index)\n",
    "\n",
    "min_size = 50\n",
    "\n",
    "for c in x_train_full_df.columns:\n",
    "    if c != \"TARGET_NUM\":\n",
    "        x_train_full_df[c][x_train_full_df.groupby(c)[c].transform('size') <= min_size] = 0"
   ]
  },
  {
   "cell_type": "code",
   "execution_count": 3,
   "id": "ee7e2f8f",
   "metadata": {},
   "outputs": [],
   "source": [
    "X_train, X_test, y_train, y_test = train_test_split(x_train_full_df[train_columns],\n",
    "                                                    XY_train[\"TARGET_NUM\"].values, test_size=0.3)"
   ]
  },
  {
   "cell_type": "code",
   "execution_count": 4,
   "id": "1187914f",
   "metadata": {},
   "outputs": [],
   "source": [
    "gnb = GaussianNB()"
   ]
  },
  {
   "cell_type": "code",
   "execution_count": 5,
   "id": "fab54fe6",
   "metadata": {},
   "outputs": [],
   "source": [
    "gnb = gnb.fit(X_train, y_train)"
   ]
  },
  {
   "cell_type": "code",
   "execution_count": 6,
   "id": "2f4d2184",
   "metadata": {},
   "outputs": [
    {
     "data": {
      "text/plain": [
       "0.10413175888333571"
      ]
     },
     "execution_count": 6,
     "metadata": {},
     "output_type": "execute_result"
    }
   ],
   "source": [
    "gnb.score(X_test, y_test)"
   ]
  },
  {
   "cell_type": "code",
   "execution_count": null,
   "id": "249543a0",
   "metadata": {},
   "outputs": [],
   "source": []
  },
  {
   "cell_type": "code",
   "execution_count": null,
   "id": "bb2eee2f",
   "metadata": {},
   "outputs": [],
   "source": []
  }
 ],
 "metadata": {
  "kernelspec": {
   "display_name": "jup_nb",
   "language": "python",
   "name": "jup_nb"
  },
  "language_info": {
   "codemirror_mode": {
    "name": "ipython",
    "version": 3
   },
   "file_extension": ".py",
   "mimetype": "text/x-python",
   "name": "python",
   "nbconvert_exporter": "python",
   "pygments_lexer": "ipython3",
   "version": "3.6.9"
  }
 },
 "nbformat": 4,
 "nbformat_minor": 5
}
