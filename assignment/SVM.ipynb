{
 "cells": [
  {
   "cell_type": "code",
   "execution_count": 1,
   "id": "915f7a94",
   "metadata": {},
   "outputs": [],
   "source": [
    "from sklearn.svm import LinearSVC, SVC\n",
    "from sklearn.model_selection import train_test_split\n",
    "from sklearn.pipeline import make_pipeline\n",
    "\n",
    "from sklearn.preprocessing import StandardScaler, MinMaxScaler, RobustScaler\n",
    "from sklearn.impute import SimpleImputer, KNNImputer\n",
    "\n",
    "from sklearn.linear_model import LogisticRegression, PassiveAggressiveClassifier\n",
    "from sklearn.linear_model import SGDClassifier, RidgeClassifier\n",
    "\n",
    "import pandas as pd\n",
    "import numpy as np\n",
    "import matplotlib\n",
    "import matplotlib.pyplot as plt\n",
    "\n",
    "from utils import get_data, plot_cm, filter_columns\n",
    "\n",
    "%matplotlib inline\n",
    "pd.set_option('display.max_columns', 50)\n",
    "matplotlib.rcParams['figure.figsize'] = [15, 15]\n",
    "\n",
    "#https://scikit-learn.org/stable/modules/generated/sklearn.svm.LinearSVC.html#sklearn.svm.LinearSVC"
   ]
  },
  {
   "cell_type": "code",
   "execution_count": 2,
   "id": "3621beb5",
   "metadata": {},
   "outputs": [],
   "source": [
    "XY_train, X_test_ori, inverse_target_map = get_data(min_size=None, min_size_test=None, nan_thresh=10, fill_nan=None)\n",
    "train_columns = list(XY_train.columns)\n",
    "train_columns.remove(\"TARGET_NUM\")\n",
    "\n",
    "y_train_ori = XY_train[\"TARGET_NUM\"].values\n",
    "x_train = XY_train[train_columns].values\n",
    "\n",
    "min_max_scaler = MinMaxScaler(feature_range=(0, 10)).fit(x_train)\n",
    "x_train = min_max_scaler.transform(x_train)\n",
    "\n",
    "imp = SimpleImputer(missing_values=np.nan, strategy='constant', fill_value=-1).fit(x_train)\n",
    "x_train = imp.transform(x_train)\n",
    "\n",
    "rs = RobustScaler().fit(x_train)\n",
    "x_train = rs.transform(x_train)\n",
    "\n",
    "stand_scaler = StandardScaler().fit(x_train)\n",
    "x_train = stand_scaler.transform(x_train)\n",
    "\n",
    "x_train = filter_columns(x_train)\n",
    "\n",
    "X_train, X_test, y_train, y_test = train_test_split(x_train, y_train_ori, test_size=0.3, stratify=y_train_ori,\n",
    "                                                    random_state=42)"
   ]
  },
  {
   "cell_type": "code",
   "execution_count": null,
   "id": "6d21b5c0",
   "metadata": {},
   "outputs": [
    {
     "name": "stdout",
     "output_type": "stream",
     "text": [
      "[LibLinear]....................................................................................................\n",
      "optimization finished, #iter = 1000\n",
      "\n",
      "WARNING: reaching max number of iterations\n",
      "Using -s 2 may be faster (also see FAQ)\n",
      "\n",
      "Objective value = -339824.725405\n",
      "nSV = 2586627\n",
      ".................................."
     ]
    }
   ],
   "source": [
    "lsvm = LinearSVC(random_state=42,\n",
    "          #class_weight=\"balanced\",\n",
    "          verbose=1)\n",
    "lsvm = lsvm.fit(X_train, y_train)\n",
    "print(lsvm.score(X_train, y_train))\n",
    "print(lsvm.score(X_test, y_test))\n",
    "plot_cm(lsvm, X_test, y_test)"
   ]
  },
  {
   "cell_type": "code",
   "execution_count": null,
   "id": "08feb007",
   "metadata": {},
   "outputs": [
    {
     "name": "stdout",
     "output_type": "stream",
     "text": [
      "[LibSVM].........."
     ]
    }
   ],
   "source": [
    "svm_p = SVC(random_state=42,\n",
    "        kernel='poly',\n",
    "          #class_weight=\"balanced\",\n",
    "          verbose=1)\n",
    "svm_p = svm_p.fit(X_train, y_train)\n",
    "print(svm_p.score(X_train, y_train))\n",
    "print(svm_p.score(X_test, y_test))\n",
    "plot_cm(svm_p, X_test, y_test)"
   ]
  },
  {
   "cell_type": "code",
   "execution_count": null,
   "id": "cc48a4a3",
   "metadata": {},
   "outputs": [],
   "source": [
    "svm_r = SVC(random_state=42,\n",
    "           kernel='rbf',\n",
    "          #class_weight=\"balanced\",\n",
    "          verbose=1)\n",
    "svm_r = svm_r.fit(X_train, y_train)\n",
    "print(svm_r.score(X_train, y_train))\n",
    "print(svm_r.score(X_test, y_test))\n",
    "plot_cm(svm_r, X_test, y_test)"
   ]
  },
  {
   "cell_type": "code",
   "execution_count": null,
   "id": "f044428d",
   "metadata": {},
   "outputs": [],
   "source": [
    "svm_s = SVC(random_state=42,\n",
    "           kernel='sigmoid',\n",
    "          #class_weight=\"balanced\",\n",
    "          verbose=1)\n",
    "svm_s = svm_s.fit(X_train, y_train)\n",
    "print(svm_s.score(X_train, y_train))\n",
    "print(svm_s.score(X_test, y_test))\n",
    "plot_cm(svm_s, X_test, y_test)"
   ]
  },
  {
   "cell_type": "code",
   "execution_count": null,
   "id": "06425de8",
   "metadata": {},
   "outputs": [],
   "source": [
    "svm_p = SVC(random_state=42,\n",
    "           kernel='precomputed',\n",
    "          #class_weight=\"balanced\",\n",
    "          verbose=1)\n",
    "svm_p = svm_p.fit(X_train, y_train)\n",
    "print(svm_p.score(X_train, y_train))\n",
    "print(svm_p.score(X_test, y_test))\n",
    "plot_cm(svm_p, X_test, y_test)"
   ]
  }
 ],
 "metadata": {
  "kernelspec": {
   "display_name": "aidrms",
   "language": "python",
   "name": "aidrms"
  },
  "language_info": {
   "codemirror_mode": {
    "name": "ipython",
    "version": 3
   },
   "file_extension": ".py",
   "mimetype": "text/x-python",
   "name": "python",
   "nbconvert_exporter": "python",
   "pygments_lexer": "ipython3",
   "version": "3.8.0"
  }
 },
 "nbformat": 4,
 "nbformat_minor": 5
}
