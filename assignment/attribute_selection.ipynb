{
 "cells": [
  {
   "cell_type": "code",
   "execution_count": 1,
   "id": "07349e68",
   "metadata": {},
   "outputs": [],
   "source": [
    "import pandas as pd\n",
    "import numpy as np\n",
    "import seaborn as sns\n",
    "\n",
    "from sklearn.decomposition import PCA\n",
    "from sklearn.manifold import TSNE\n",
    "from sklearn.tree import DecisionTreeClassifier as DTC\n",
    "\n",
    "from sklearn.preprocessing import StandardScaler, MinMaxScaler, RobustScaler\n",
    "from sklearn.impute import SimpleImputer, KNNImputer\n",
    "\n",
    "%matplotlib inline\n",
    "import matplotlib.pyplot as plt\n",
    "from mpl_toolkits.mplot3d import Axes3D\n",
    "\n",
    "from utils import get_data, plot_cm\n",
    "\n",
    "%matplotlib inline\n",
    "pd.set_option('display.max_columns', 50)\n",
    "pd.set_option('display.max_rows', 500)"
   ]
  },
  {
   "cell_type": "code",
   "execution_count": null,
   "id": "e8bc637e",
   "metadata": {},
   "outputs": [],
   "source": [
    "XY_train, X_test, inverse_target_map = get_data(min_size=None, min_size_test=None, fill_nan=-10)\n",
    "train_columns = list(XY_train.columns)\n",
    "train_columns.remove(\"TARGET_NUM\")"
   ]
  },
  {
   "cell_type": "code",
   "execution_count": null,
   "id": "64175fda",
   "metadata": {},
   "outputs": [],
   "source": [
    "df_result = pd.DataFrame({'A': []})"
   ]
  },
  {
   "cell_type": "markdown",
   "id": "913e4e9a",
   "metadata": {},
   "source": [
    "## TSNE"
   ]
  },
  {
   "cell_type": "code",
   "execution_count": null,
   "id": "4a7750d8",
   "metadata": {
    "scrolled": true
   },
   "outputs": [],
   "source": [
    "tsne = TSNE(n_components=2, verbose=1, perplexity=40, n_iter=300)\n",
    "tsne_results = tsne.fit_transform(XY_train[train_columns].values)\n",
    "\n",
    "df_result['tsne-2d-one'] = tsne_results[:, 0]\n",
    "df_result['tsne-2d-two'] = tsne_results[:, 1] "
   ]
  },
  {
   "cell_type": "code",
   "execution_count": null,
   "id": "56141433",
   "metadata": {},
   "outputs": [],
   "source": [
    "plt.figure(figsize=(16,10))\n",
    "sns.scatterplot(\n",
    "    x=\"tsne-2d-one\", y=\"tsne-2d-two\",\n",
    "    hue=\"y\",\n",
    "    palette=sns.color_palette(\"hls\", 10),\n",
    "    data=df_result,\n",
    "    legend=\"full\",\n",
    "    alpha=0.3\n",
    ")"
   ]
  },
  {
   "cell_type": "code",
   "execution_count": null,
   "id": "3ee64b01",
   "metadata": {},
   "outputs": [],
   "source": []
  },
  {
   "cell_type": "markdown",
   "id": "f216d765",
   "metadata": {},
   "source": [
    "## PCA"
   ]
  },
  {
   "cell_type": "code",
   "execution_count": null,
   "id": "bd04aca1",
   "metadata": {},
   "outputs": [],
   "source": [
    "pca = PCA(n_components=3)\n",
    "pca_result = pca.fit_transform(XY_train[train_columns].values)\n",
    "\n",
    "df_result['pca-one'] = pca_result[:, 0]\n",
    "df_result['pca-two'] = pca_result[:, 1] \n",
    "df_result['pca-three'] = pca_result[:, 2]\n",
    "df_result['y'] = XY_train[\"TARGET_NUM\"]"
   ]
  },
  {
   "cell_type": "code",
   "execution_count": null,
   "id": "c5c7097a",
   "metadata": {},
   "outputs": [],
   "source": [
    "df_result['y'] = XY_train[\"TARGET_NUM\"]"
   ]
  },
  {
   "cell_type": "code",
   "execution_count": null,
   "id": "fc8467d1",
   "metadata": {
    "scrolled": false
   },
   "outputs": [],
   "source": [
    "plt.figure(figsize=(16,10))\n",
    "sns.scatterplot(\n",
    "    x=\"pca-one\", y=\"pca-two\",\n",
    "    hue=\"y\",\n",
    "    palette=sns.color_palette(\"hls\", 19),\n",
    "    data=df_result,\n",
    "    legend=\"full\",\n",
    "    alpha=0.3\n",
    ")"
   ]
  },
  {
   "cell_type": "code",
   "execution_count": null,
   "id": "fb29a534",
   "metadata": {},
   "outputs": [],
   "source": [
    "plt.figure(figsize=(16,10))\n",
    "sns.scatterplot(\n",
    "    x=\"pca-one\", y=\"pca-three\",\n",
    "    hue=\"y\",\n",
    "    palette=sns.color_palette(\"hls\", 19),\n",
    "    data=df_result,\n",
    "    legend=\"full\",\n",
    "    alpha=0.3\n",
    ")"
   ]
  },
  {
   "cell_type": "code",
   "execution_count": null,
   "id": "94c35451",
   "metadata": {},
   "outputs": [],
   "source": [
    "plt.figure(figsize=(16,10))\n",
    "sns.scatterplot(\n",
    "    x=\"pca-three\", y=\"pca-two\",\n",
    "    hue=\"y\",\n",
    "    palette=sns.color_palette(\"hls\", 19),\n",
    "    data=df_result,\n",
    "    legend=\"full\",\n",
    "    alpha=0.3\n",
    ")"
   ]
  },
  {
   "cell_type": "code",
   "execution_count": null,
   "id": "b2d984ff",
   "metadata": {},
   "outputs": [],
   "source": [
    "ax = plt.figure(figsize=(16,10)).gca(projection='3d')\n",
    "ax.scatter(\n",
    "    xs=df_result[\"pca-one\"], \n",
    "    ys=df_result[\"pca-two\"], \n",
    "    zs=df_result[\"pca-three\"], \n",
    "    c=XY_train[\"TARGET_NUM\"],\n",
    "    cmap='tab10'\n",
    ")\n",
    "ax.set_xlabel('pca-one')\n",
    "ax.set_ylabel('pca-two')\n",
    "ax.set_zlabel('pca-three')\n",
    "plt.show()"
   ]
  },
  {
   "cell_type": "markdown",
   "id": "f375305f",
   "metadata": {},
   "source": [
    "## SelectFromModel\n",
    "https://towardsdatascience.com/5-feature-selection-method-from-scikit-learn-you-should-know-ed4d116e4172\n",
    "https://scikit-learn.org/stable/modules/generated/sklearn.feature_selection.SelectFromModel.html"
   ]
  },
  {
   "cell_type": "code",
   "execution_count": 6,
   "id": "3ef4d76c",
   "metadata": {},
   "outputs": [],
   "source": [
    "from sklearn.feature_selection import SelectFromModel\n",
    "from sklearn.svm import LinearSVC, SVC"
   ]
  },
  {
   "cell_type": "code",
   "execution_count": null,
   "id": "1db5ec4b",
   "metadata": {},
   "outputs": [],
   "source": [
    "svm = LinearSVC(verbose=1).fit(XY_train[train_columns].values, XY_train[\"TARGET_NUM\"].values)\n",
    "selector = SelectFromModel(estimator=svm, prefit=True)"
   ]
  },
  {
   "cell_type": "code",
   "execution_count": null,
   "id": "76adc5a3",
   "metadata": {},
   "outputs": [],
   "source": [
    "selector.estimator_.coef_"
   ]
  },
  {
   "cell_type": "code",
   "execution_count": null,
   "id": "1693af2d",
   "metadata": {},
   "outputs": [],
   "source": [
    "selector.get_support()"
   ]
  },
  {
   "cell_type": "code",
   "execution_count": null,
   "id": "1cd396dd",
   "metadata": {},
   "outputs": [],
   "source": []
  },
  {
   "cell_type": "code",
   "execution_count": null,
   "id": "2e5afb39",
   "metadata": {},
   "outputs": [],
   "source": []
  },
  {
   "cell_type": "code",
   "execution_count": 2,
   "id": "fd9b9201",
   "metadata": {},
   "outputs": [],
   "source": [
    "XY_train, X_test_ori, inverse_target_map = get_data(min_size=None, min_size_test=None, nan_thresh=10, fill_nan=None)\n",
    "\n",
    "train_columns = list(XY_train.columns)\n",
    "train_columns.remove(\"TARGET_NUM\")\n",
    "\n",
    "y_train_ori = XY_train[\"TARGET_NUM\"].values\n",
    "x_train = XY_train[train_columns].values\n",
    "\n",
    "min_max_scaler = MinMaxScaler(feature_range=(0, 10)).fit(x_train)\n",
    "x_train = min_max_scaler.transform(x_train)\n",
    "\n",
    "imp = SimpleImputer(missing_values=np.nan, strategy='constant', fill_value=-1).fit(x_train)\n",
    "x_train = imp.transform(x_train)\n",
    "\n",
    "#x_train = filter_columns(x_train)\n",
    "\n",
    "result = [x_train]\n",
    "for i in range(2, 5):\n",
    "    result.append(np.power(x_train, i))\n",
    "    \n",
    "x_train = np.concatenate(result, axis=1)"
   ]
  },
  {
   "cell_type": "code",
   "execution_count": null,
   "id": "9ea91e5d",
   "metadata": {},
   "outputs": [],
   "source": [
    "base_estimator = DTC(max_depth=15, random_state=42).fit(x_train, y_train_ori)\n",
    "selector = SelectFromModel(estimator=base_estimator, prefit=True)"
   ]
  },
  {
   "cell_type": "code",
   "execution_count": null,
   "id": "d79f47af",
   "metadata": {},
   "outputs": [],
   "source": [
    "selector.get_support()"
   ]
  },
  {
   "cell_type": "code",
   "execution_count": null,
   "id": "c27c7955",
   "metadata": {},
   "outputs": [],
   "source": [
    "x_train_select = selector.transform(x_train)"
   ]
  },
  {
   "cell_type": "code",
   "execution_count": null,
   "id": "85aad264",
   "metadata": {},
   "outputs": [],
   "source": [
    "dtc = DTC(max_depth=15, random_state=42).fit(x_train_select, y_train_ori)\n",
    "print(dtc.score(x_train_select, y_train_ori))\n",
    "plot_cm(dtc, x_train_select, y_train_ori)"
   ]
  },
  {
   "cell_type": "code",
   "execution_count": null,
   "id": "e1135c58",
   "metadata": {
    "scrolled": true
   },
   "outputs": [],
   "source": [
    "x_train_full.shape"
   ]
  },
  {
   "cell_type": "code",
   "execution_count": null,
   "id": "b5121daf",
   "metadata": {},
   "outputs": [],
   "source": [
    "x_train_full[:, selector.get_support()].shape"
   ]
  },
  {
   "cell_type": "code",
   "execution_count": null,
   "id": "e72a434a",
   "metadata": {},
   "outputs": [],
   "source": []
  },
  {
   "cell_type": "code",
   "execution_count": null,
   "id": "13d98e3c",
   "metadata": {},
   "outputs": [],
   "source": []
  },
  {
   "cell_type": "code",
   "execution_count": 7,
   "id": "0c0d721e",
   "metadata": {},
   "outputs": [],
   "source": [
    "XY_train, X_test, inverse_target_map = get_data(min_size=None, min_size_test=None, fill_nan=None)\n",
    "train_columns = list(XY_train.columns)\n",
    "train_columns.remove(\"TARGET_NUM\")\n",
    "\n",
    "min_max_scaler = MinMaxScaler(feature_range=(2, 10))\n",
    "X_train_minmax = min_max_scaler.fit(XY_train[train_columns])\n",
    "x_train = X_train_minmax.transform(XY_train[train_columns])\n",
    "\n",
    "imp = SimpleImputer(missing_values=np.nan, strategy='constant', fill_value=1)\n",
    "imp_train = imp.fit(x_train)\n",
    "x_train_full = imp_train.transform(x_train)\n",
    "\n",
    "x_train_full_df = pd.DataFrame(x_train_full, columns=train_columns, index=XY_train.index)\n",
    "\n",
    "min_size = 150\n",
    "\n",
    "for c in x_train_full_df.columns:\n",
    "    if c != \"TARGET_NUM\":\n",
    "        x_train_full_df[c][x_train_full_df.groupby(c)[c].transform('size') <= min_size] = 0\n",
    "\n",
    "stand_scaler = StandardScaler()\n",
    "X_train_stand = stand_scaler.fit(x_train_full_df[train_columns])\n",
    "x_train_stand = X_train_stand.transform(x_train_full_df[train_columns])"
   ]
  },
  {
   "cell_type": "code",
   "execution_count": null,
   "id": "cabeeb0a",
   "metadata": {},
   "outputs": [
    {
     "name": "stdout",
     "output_type": "stream",
     "text": [
      "[LibLinear]....................................................................................................\n",
      "optimization finished, #iter = 1000\n",
      "\n",
      "WARNING: reaching max number of iterations\n",
      "Using -s 2 may be faster (also see FAQ)\n",
      "\n",
      "Objective value = -482083.732015\n",
      "nSV = 3603355\n",
      "....................................................................................................\n",
      "optimization finished, #iter = 1000\n",
      "\n",
      "WARNING: reaching max number of iterations\n",
      "Using -s 2 may be faster (also see FAQ)\n",
      "\n",
      "Objective value = -1763482.586410\n",
      "nSV = 3412099\n",
      "....................................................................................................\n",
      "optimization finished, #iter = 1000\n",
      "\n",
      "WARNING: reaching max number of iterations\n",
      "Using -s 2 may be faster (also see FAQ)\n",
      "\n",
      "Objective value = -948385.127083\n",
      "nSV = 3677469\n",
      "....................................................................................................\n",
      "optimization finished, #iter = 1000\n",
      "\n",
      "WARNING: reaching max number of iterations\n",
      "Using -s 2 may be faster (also see FAQ)\n",
      "\n",
      "Objective value = -652039.751042\n",
      "nSV = 3671367\n",
      "......."
     ]
    }
   ],
   "source": [
    "svm = LinearSVC(verbose=1).fit(x_train_stand, XY_train[\"TARGET_NUM\"].values)\n",
    "selector = SelectFromModel(estimator=svm, prefit=True)"
   ]
  },
  {
   "cell_type": "code",
   "execution_count": null,
   "id": "10630b1c",
   "metadata": {},
   "outputs": [
    {
     "name": "stdout",
     "output_type": "stream",
     "text": [
      "[LibSVM]............................................................................................................"
     ]
    }
   ],
   "source": [
    "svm = SVC(kernel=\"rbf\", verbose=1).fit(x_train_stand, XY_train[\"TARGET_NUM\"].values)\n",
    "selector = SelectFromModel(estimator=svm, prefit=True)"
   ]
  },
  {
   "cell_type": "code",
   "execution_count": null,
   "id": "860bb179",
   "metadata": {},
   "outputs": [],
   "source": []
  }
 ],
 "metadata": {
  "kernelspec": {
   "display_name": "aidrms",
   "language": "python",
   "name": "aidrms"
  },
  "language_info": {
   "codemirror_mode": {
    "name": "ipython",
    "version": 3
   },
   "file_extension": ".py",
   "mimetype": "text/x-python",
   "name": "python",
   "nbconvert_exporter": "python",
   "pygments_lexer": "ipython3",
   "version": "3.8.0"
  }
 },
 "nbformat": 4,
 "nbformat_minor": 5
}
