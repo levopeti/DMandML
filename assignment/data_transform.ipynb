{
 "cells": [
  {
   "cell_type": "code",
   "execution_count": 2,
   "id": "c8533240",
   "metadata": {},
   "outputs": [],
   "source": [
    "from sklearn.preprocessing import StandardScaler, MinMaxScaler, RobustScaler\n",
    "from sklearn.impute import SimpleImputer, KNNImputer  #, IterativeImputer\n",
    "\n",
    "import pandas as pd\n",
    "import numpy as np\n",
    "import matplotlib.pyplot as plt\n",
    "\n",
    "from utils import get_data\n",
    "\n",
    "%matplotlib inline\n",
    "pd.set_option('display.max_columns', 50)\n",
    "pd.set_option('display.max_rows', 500)"
   ]
  },
  {
   "cell_type": "code",
   "execution_count": 3,
   "id": "eb68aa82",
   "metadata": {},
   "outputs": [],
   "source": [
    "XY_train, X_test, inverse_target_map = get_data(min_size=None, min_size_test=None, fill_nan=None)\n",
    "train_columns = list(XY_train.columns)\n",
    "train_columns.remove(\"TARGET_NUM\")"
   ]
  },
  {
   "cell_type": "code",
   "execution_count": 7,
   "id": "e47bc861",
   "metadata": {},
   "outputs": [],
   "source": [
    "min_max_scaler = MinMaxScaler(feature_range=(2, 10))\n",
    "X_train_minmax = min_max_scaler.fit(XY_train[train_columns])\n",
    "x_train = X_train_minmax.transform(XY_train[train_columns])"
   ]
  },
  {
   "cell_type": "code",
   "execution_count": 11,
   "id": "33080a38",
   "metadata": {},
   "outputs": [],
   "source": [
    "imp = SimpleImputer(missing_values=np.nan, strategy='constant', fill_value=1)\n",
    "imp_train = imp.fit(x_train)\n",
    "x_train_full = imp_train.transform(x_train)"
   ]
  },
  {
   "cell_type": "code",
   "execution_count": 13,
   "id": "320ca98a",
   "metadata": {},
   "outputs": [],
   "source": [
    "x_train_full_df = pd.DataFrame(x_train_full, columns=train_columns, index=XY_train.index)"
   ]
  },
  {
   "cell_type": "code",
   "execution_count": 14,
   "id": "7f188db7",
   "metadata": {},
   "outputs": [],
   "source": [
    "min_size = 150\n",
    "\n",
    "for c in x_train_full_df.columns:\n",
    "    if c != \"TARGET_NUM\":\n",
    "        x_train_full_df[c][x_train_full_df.groupby(c)[c].transform('size') <= min_size] = 0"
   ]
  },
  {
   "cell_type": "code",
   "execution_count": 15,
   "id": "19ef8f09",
   "metadata": {},
   "outputs": [
    {
     "name": "stdout",
     "output_type": "stream",
     "text": [
      "0.0\n",
      "10.0\n"
     ]
    }
   ],
   "source": [
    "print(x_train_full.min())\n",
    "print(x_train_full.max())"
   ]
  },
  {
   "cell_type": "code",
   "execution_count": 16,
   "id": "d3a7a778",
   "metadata": {},
   "outputs": [],
   "source": [
    "stand_scaler = StandardScaler()\n",
    "X_train_stand = stand_scaler.fit(x_train_full_df[train_columns])\n",
    "x_train_stand = X_train_stand.transform(x_train_full_df[train_columns])"
   ]
  },
  {
   "cell_type": "code",
   "execution_count": 20,
   "id": "3e1b6b2f",
   "metadata": {},
   "outputs": [
    {
     "name": "stdout",
     "output_type": "stream",
     "text": [
      "-4.543715384613587\n",
      "9.810183897781634\n",
      "-1.8713062452519062e-16\n",
      "1.000000000000001\n"
     ]
    }
   ],
   "source": [
    "print(x_train_stand.min())\n",
    "print(x_train_stand.max())\n",
    "print(x_train_stand.mean())\n",
    "print(x_train_stand.std())"
   ]
  },
  {
   "cell_type": "code",
   "execution_count": null,
   "id": "5e5f534d",
   "metadata": {},
   "outputs": [],
   "source": []
  }
 ],
 "metadata": {
  "kernelspec": {
   "display_name": "aidrms",
   "language": "python",
   "name": "aidrms"
  },
  "language_info": {
   "codemirror_mode": {
    "name": "ipython",
    "version": 3
   },
   "file_extension": ".py",
   "mimetype": "text/x-python",
   "name": "python",
   "nbconvert_exporter": "python",
   "pygments_lexer": "ipython3",
   "version": "3.8.0"
  }
 },
 "nbformat": 4,
 "nbformat_minor": 5
}
