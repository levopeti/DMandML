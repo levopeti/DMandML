{
 "cells": [
  {
   "cell_type": "code",
   "execution_count": 1,
   "metadata": {},
   "outputs": [],
   "source": [
    "# Import neccesary packages\n",
    "\n",
    "import numpy as np\n",
    "import apriori"
   ]
  },
  {
   "cell_type": "code",
   "execution_count": 2,
   "metadata": {},
   "outputs": [],
   "source": [
    "data = apriori.read_data('data/weatherset.txt') # --> import dataset\n",
    "weather_supp, temperature_supp, humidity_supp, wind_supp, play_supp = apriori.get_individual_supports(data) # --> determine individual supports\n",
    "other_supports = apriori.get_n_individual_supports(data) # --> determine combined supports\n",
    "\n",
    "#other_supports\n",
    "#other_supports[0]\n",
    "#other_supports[0][0]\n",
    "#other_supports[0][1]"
   ]
  },
  {
   "cell_type": "code",
   "execution_count": 3,
   "metadata": {},
   "outputs": [
    {
     "name": "stdout",
     "output_type": "stream",
     "text": [
      "{'Rainy': 5, 'Overcast': 4, 'Sunny': 5}\n",
      "{'Cool': 4, 'Mild': 6, 'Hot': 4}\n",
      "{'Normal': 7, 'High': 7}\n",
      "{'False': 8, 'True': 6}\n",
      "{'No': 5, 'Yes': 9}\n"
     ]
    }
   ],
   "source": [
    "print(weather_supp)\n",
    "print(temperature_supp)\n",
    "print(humidity_supp)\n",
    "print(wind_supp)\n",
    "print(play_supp)"
   ]
  },
  {
   "cell_type": "code",
   "execution_count": 4,
   "metadata": {},
   "outputs": [
    {
     "data": {
      "text/plain": [
       "0.14285714285714285"
      ]
     },
     "execution_count": 4,
     "metadata": {},
     "output_type": "execute_result"
    }
   ],
   "source": [
    "# Define the query sequences for checking the lift value (when defining them, keep the original column order)\n",
    "\n",
    "to_be_found = ('Rainy', 'Cool','Normal')\n",
    "to_be_found2 = ('Rainy', 'Cool')\n",
    "\n",
    "# Asking for support value based on specific querys\n",
    "\n",
    "supXY = apriori.find_in_individualsupports(other_supports, to_be_found)\n",
    "supX = apriori.find_in_individualsupports(other_supports, to_be_found2)\n",
    "\n",
    "# Computing lift (if you cancel sup(Y) you will get the confidence)\n",
    "\n",
    "lift = supXY/(supX*humidity_supp['Normal'])\n",
    "lift"
   ]
  },
  {
   "cell_type": "code",
   "execution_count": null,
   "metadata": {},
   "outputs": [],
   "source": []
  }
 ],
 "metadata": {
  "interpreter": {
   "hash": "3d1c71dbad7601715e404799a84eef343bfd59af8cf2a6531e0966451f90a15a"
  },
  "kernelspec": {
   "display_name": "Python 3",
   "language": "python",
   "name": "python3"
  },
  "language_info": {
   "codemirror_mode": {
    "name": "ipython",
    "version": 3
   },
   "file_extension": ".py",
   "mimetype": "text/x-python",
   "name": "python",
   "nbconvert_exporter": "python",
   "pygments_lexer": "ipython3",
   "version": "3.6.9"
  }
 },
 "nbformat": 4,
 "nbformat_minor": 2
}
