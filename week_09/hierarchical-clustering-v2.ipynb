{
 "cells": [
  {
   "cell_type": "markdown",
   "metadata": {
    "papermill": {
     "duration": 0.004965,
     "end_time": "2020-11-09T13:46:06.735880",
     "exception": false,
     "start_time": "2020-11-09T13:46:06.730915",
     "status": "completed"
    },
    "tags": []
   },
   "source": [
    "\n",
    "# Plot Hierarchical Clustering Dendrogram\n",
    "\n",
    "This example plots the corresponding dendrogram of a hierarchical clustering\n",
    "using AgglomerativeClustering and the dendrogram method available in scipy.\n"
   ]
  },
  {
   "cell_type": "code",
   "execution_count": 1,
   "metadata": {
    "execution": {
     "iopub.execute_input": "2020-11-09T13:46:06.750568Z",
     "iopub.status.busy": "2020-11-09T13:46:06.749668Z",
     "iopub.status.idle": "2020-11-09T13:46:07.925800Z",
     "shell.execute_reply": "2020-11-09T13:46:07.925156Z"
    },
    "papermill": {
     "duration": 1.186022,
     "end_time": "2020-11-09T13:46:07.925919",
     "exception": false,
     "start_time": "2020-11-09T13:46:06.739897",
     "status": "completed"
    },
    "tags": []
   },
   "outputs": [],
   "source": [
    "import numpy as np\n",
    "from matplotlib import pyplot as plt\n",
    "\n",
    "from sklearn.datasets import load_iris\n",
    "\n",
    "from sklearn.cluster import AgglomerativeClustering\n",
    "from scipy.cluster.hierarchy import dendrogram\n"
   ]
  },
  {
   "cell_type": "code",
   "execution_count": 2,
   "metadata": {
    "execution": {
     "iopub.execute_input": "2020-11-09T13:46:07.945399Z",
     "iopub.status.busy": "2020-11-09T13:46:07.944612Z",
     "iopub.status.idle": "2020-11-09T13:46:08.283297Z",
     "shell.execute_reply": "2020-11-09T13:46:08.283866Z"
    },
    "papermill": {
     "duration": 0.35402,
     "end_time": "2020-11-09T13:46:08.284015",
     "exception": false,
     "start_time": "2020-11-09T13:46:07.929995",
     "status": "completed"
    },
    "tags": []
   },
   "outputs": [
    {
     "data": {
      "text/plain": [
       "Text(0.5, 0, 'Number of points in node (or index of point if no parenthesis).')"
      ]
     },
     "execution_count": 2,
     "metadata": {},
     "output_type": "execute_result"
    },
    {
     "data": {
      "image/png": "[encoded data removed]",
      "text/plain": [
       "<Figure size 432x288 with 1 Axes>"
      ]
     },
     "metadata": {
      "needs_background": "light"
     },
     "output_type": "display_data"
    }
   ],
   "source": [
    "X = load_iris().data\n",
    "\n",
    "model = AgglomerativeClustering(distance_threshold=0, n_clusters=None)\n",
    "\n",
    "model = AgglomerativeClustering(distance_threshold=0, n_clusters=None).fit(X)\n",
    "\n",
    "counts = np.zeros(model.children_.shape[0])\n",
    "n_samples = len(model.labels_)\n",
    "for i, merge in enumerate(model.children_):\n",
    "    current_count = 0\n",
    "    for child_idx in merge:\n",
    "        if child_idx < n_samples:\n",
    "            current_count += 1  # leaf node\n",
    "        else:\n",
    "            current_count += counts[child_idx - n_samples]\n",
    "        counts[i] = current_count\n",
    "linkage_matrix = np.column_stack([model.children_, model.distances_,\n",
    "                                      counts]).astype(float)\n",
    "# Plot the corresponding dendrogram\n",
    "dendrogram(linkage_matrix, truncate_mode='level', p=3)\n",
    "\n",
    "plt.title('Hierarchical Clustering Dendrogram')\n",
    "plt.xlabel(\"Number of points in node (or index of point if no parenthesis).\")\n"
   ]
  }
 ],
 "metadata": {
  "kernelspec": {
   "display_name": "Python 3",
   "language": "python",
   "name": "python3"
  },
  "language_info": {
   "codemirror_mode": {
    "name": "ipython",
    "version": 3
   },
   "file_extension": ".py",
   "mimetype": "text/x-python",
   "name": "python",
   "nbconvert_exporter": "python",
   "pygments_lexer": "ipython3",
   "version": "3.7.6"
  },
  "papermill": {
   "duration": 6.235805,
   "end_time": "2020-11-09T13:46:08.396646",
   "environment_variables": {},
   "exception": null,
   "input_path": "__notebook__.ipynb",
   "output_path": "__notebook__.ipynb",
   "parameters": {},
   "start_time": "2020-11-09T13:46:02.160841",
   "version": "2.1.0"
  }
 },
 "nbformat": 4,
 "nbformat_minor": 4
}
